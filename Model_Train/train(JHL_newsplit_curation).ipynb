{
 "cells": [
  {
   "cell_type": "code",
   "execution_count": 1,
   "metadata": {},
   "outputs": [],
   "source": [
    "import sys\n",
    "sys.path.append(\"../model/\")\n",
    "# sys.path.append(\"../../loss/\")\n"
   ]
  },
  {
   "cell_type": "code",
   "execution_count": 2,
   "metadata": {},
   "outputs": [
    {
     "data": {
      "text/plain": [
       "'/mnt/nas100_vol2/LeeJungHoon/Segmentation/OCT_task/Experiments_LJH'"
      ]
     },
     "execution_count": 2,
     "metadata": {},
     "output_type": "execute_result"
    }
   ],
   "source": [
    "pwd"
   ]
  },
  {
   "cell_type": "markdown",
   "metadata": {
    "tags": []
   },
   "source": [
    "## test"
   ]
  },
  {
   "cell_type": "code",
   "execution_count": 3,
   "metadata": {},
   "outputs": [],
   "source": [
    "import os\n",
    "import cv2\n",
    "import json\n",
    "import math\n",
    "import random\n",
    "import imageio\n",
    "import numpy as np\n",
    "import nibabel as nib\n",
    "import albumentations\n",
    "import shutil\n",
    "import re\n",
    "\n",
    "from glob import glob\n",
    "from tqdm import tqdm\n",
    "from unet_official import UNet\n",
    "from matplotlib import pyplot as plt\n",
    "from dice_score import multiclass_dice_coeff, dice_loss\n",
    "\n",
    "import torch\n",
    "import torch.nn as nn\n",
    "import torch.nn.functional as F\n",
    "from torch import optim\n",
    "from torch.utils.data import Dataset, DataLoader, random_split\n",
    "from torch.utils.tensorboard import SummaryWriter\n",
    "\n",
    "# from torchsummary import summary\n",
    "from datetime import datetime\n",
    "\n",
    "from scipy.ndimage.interpolation import map_coordinates\n",
    "from scipy.ndimage.filters import gaussian_filter\n",
    "\n",
    "from skimage.filters import median\n",
    "from skimage.morphology import disk"
   ]
  },
  {
   "cell_type": "code",
   "execution_count": 4,
   "metadata": {},
   "outputs": [
    {
     "name": "stdout",
     "output_type": "stream",
     "text": [
      "Using Seed Number 42\n"
     ]
    }
   ],
   "source": [
    "def seed_all(seed=42):\n",
    "    print(\"Using Seed Number {}\".format(seed))\n",
    "\n",
    "    os.environ[\"PYTHONHASHSEED\"] = str(seed)  # set PYTHONHASHSEED env var at fixed value\n",
    "    torch.manual_seed(seed)\n",
    "    torch.cuda.manual_seed_all(seed)\n",
    "    torch.cuda.manual_seed(seed)  # pytorch (both CPU and CUDA)\n",
    "    np.random.seed(seed)  # for numpy pseudo-random generator\n",
    "    random.seed(seed)  # set fixed value for python built-in pseudo-random generator\n",
    "    torch.backends.cudnn.deterministic = True\n",
    "    torch.backends.cudnn.benchmark = False\n",
    "    torch.backends.cudnn.enabled = False\n",
    "\n",
    "def seed_worker(_worker_id):\n",
    "    worker_seed = torch.initial_seed() % 2**32\n",
    "    np.random.seed(worker_seed)\n",
    "    random.seed(worker_seed)\n",
    "    \n",
    "seed_all()"
   ]
  },
  {
   "cell_type": "code",
   "execution_count": 5,
   "metadata": {},
   "outputs": [],
   "source": [
    "def is_cache(filename):\n",
    "    return filename == '.ipynb_checkpoints'\n",
    "\n",
    "def del_cache(file_list):\n",
    "    if '.ipynb_checkpoints' in file_list:\n",
    "        file_list.remove('.ipynb_checkpoints')\n",
    "    if '@eaDir' in file_list:\n",
    "        file_list.remove('@eaDir')\n",
    "    return file_list"
   ]
  },
  {
   "cell_type": "markdown",
   "metadata": {},
   "source": [
    "## Load train image/mask "
   ]
  },
  {
   "cell_type": "code",
   "execution_count": 6,
   "metadata": {},
   "outputs": [
    {
     "data": {
      "text/plain": [
       "'/mnt/nas100_vol2/LeeJungHoon/Segmentation/OCT_task/Experiments_LJH'"
      ]
     },
     "execution_count": 6,
     "metadata": {},
     "output_type": "execute_result"
    }
   ],
   "source": [
    "pwd"
   ]
  },
  {
   "cell_type": "code",
   "execution_count": 7,
   "metadata": {},
   "outputs": [
    {
     "name": "stdout",
     "output_type": "stream",
     "text": [
      "['0', '1', '2']\n"
     ]
    }
   ],
   "source": [
    "p = '../data/labeling'\n",
    "p_list = del_cache(os.listdir(p))\n",
    "print(p_list)"
   ]
  },
  {
   "cell_type": "code",
   "execution_count": null,
   "metadata": {
    "collapsed": true,
    "jupyter": {
     "outputs_hidden": true
    },
    "tags": []
   },
   "outputs": [],
   "source": [
    "patient_dict"
   ]
  },
  {
   "cell_type": "code",
   "execution_count": null,
   "metadata": {
    "collapsed": true,
    "jupyter": {
     "outputs_hidden": true
    },
    "tags": []
   },
   "outputs": [],
   "source": [
    "inputs"
   ]
  },
  {
   "cell_type": "code",
   "execution_count": null,
   "metadata": {
    "collapsed": true,
    "jupyter": {
     "outputs_hidden": true
    },
    "scrolled": true,
    "tags": []
   },
   "outputs": [],
   "source": [
    "dataset = list(zip(inputs, targets))\n",
    "random.shuffle(dataset)\n",
    "inputs, targets = zip(*dataset)\n",
    "\n",
    "# 간단하게 확인\n",
    "print(inputs[:2])\n",
    "print(targets[:2])"
   ]
  },
  {
   "cell_type": "markdown",
   "metadata": {},
   "source": [
    "## device 정의"
   ]
  },
  {
   "cell_type": "code",
   "execution_count": 7,
   "metadata": {},
   "outputs": [],
   "source": [
    "device = torch.device(\"cuda:0\" if torch.cuda.is_available() else \"cpu\")"
   ]
  },
  {
   "cell_type": "code",
   "execution_count": 8,
   "metadata": {},
   "outputs": [
    {
     "data": {
      "text/plain": [
       "device(type='cuda', index=0)"
      ]
     },
     "execution_count": 8,
     "metadata": {},
     "output_type": "execute_result"
    }
   ],
   "source": [
    "device"
   ]
  },
  {
   "cell_type": "markdown",
   "metadata": {},
   "source": [
    "## Dataset & DataLoader"
   ]
  },
  {
   "cell_type": "code",
   "execution_count": 9,
   "metadata": {},
   "outputs": [],
   "source": [
    "def get_patches(img, mask, overlap=0.0, patch_size=256):\n",
    "    h, w = np.shape(img)\n",
    "    \n",
    "    img_patch_list = []\n",
    "    mask_patch_list = []\n",
    "    \n",
    "    patch_num = math.ceil((w - h) / (h * (1 - overlap))) + 1\n",
    "    \n",
    "    for w_start_idx in np.linspace(0, w-h, patch_num):\n",
    "        w_start_idx = int(w_start_idx)\n",
    "        img_patch = img[:, w_start_idx:w_start_idx+h]\n",
    "        mask_patch = mask[:, w_start_idx:w_start_idx+h]\n",
    "        \n",
    "        X_per = patch_size / h\n",
    "        resized_img = cv2.resize(img_patch, dsize=(0, 0), fx=X_per, fy=X_per, interpolation=cv2.INTER_NEAREST)\n",
    "        img_patch_list.append(resized_img)\n",
    "        \n",
    "        resized_mask = cv2.resize(mask_patch, dsize=(0, 0), fx=X_per, fy=X_per, interpolation=cv2.INTER_NEAREST)\n",
    "        mask_patch_list.append(resized_mask)\n",
    "        \n",
    "    return img_patch_list, mask_patch_list"
   ]
  },
  {
   "cell_type": "code",
   "execution_count": 10,
   "metadata": {},
   "outputs": [],
   "source": [
    "def remove_artifact(img, mask, filter_size=(1, 5), overlap=0.4, threshold = 25):\n",
    "    MEAN_VALUE = 127.5\n",
    "    removed_img = img.copy()\n",
    "    \n",
    "    mask_h, mask_w = mask.shape\n",
    "    filter_h, filter_w = filter_size[0], filter_size[1]\n",
    "    \n",
    "    patch_num = math.ceil((mask_w - filter_w) / (filter_w * (1 - overlap))) + 1\n",
    "    \n",
    "    for h_start_idx in range(0, mask_h, filter_h):\n",
    "        for w_start_idx in np.linspace(0, mask_w-filter_w, patch_num):\n",
    "            w_start_idx = int(w_start_idx)\n",
    "            mask_region = mask[h_start_idx:h_start_idx+filter_h, w_start_idx:w_start_idx+filter_w]\n",
    "            mask_region_unique_value = np.unique(mask_region)\n",
    "            \n",
    "            if 0 in mask_region_unique_value or 10 in mask_region_unique_value:\n",
    "                continue\n",
    "            \n",
    "            img_region = removed_img[h_start_idx:h_start_idx+filter_h, w_start_idx:w_start_idx+filter_w]\n",
    "            \n",
    "            for h in range(filter_h):\n",
    "                pixel_list = img_region[h, :]\n",
    "                mean_pixel = int(np.mean(pixel_list))\n",
    "                \n",
    "                less = [element for element in pixel_list if element < mean_pixel] + [mean_pixel]\n",
    "                greater = [element for element in pixel_list if element > mean_pixel] + [mean_pixel]\n",
    "\n",
    "                for idx, element in enumerate(pixel_list): \n",
    "                    # 대체적으로 밝다\n",
    "                    if mean_pixel > MEAN_VALUE and element - mean_pixel <= -threshold:\n",
    "                        pixel_list[idx] = random.choice(greater)\n",
    "                    # 대체적으로 어둡다\n",
    "                    elif mean_pixel < MEAN_VALUE and element - mean_pixel >= threshold:\n",
    "                        pixel_list[idx] = random.choice(less)      \n",
    "    return removed_img"
   ]
  },
  {
   "cell_type": "code",
   "execution_count": 11,
   "metadata": {},
   "outputs": [],
   "source": [
    "def remove_artifact(img, mask, name, threshold=2):\n",
    "    removed_img = img.copy()\n",
    "    \n",
    "    # 배경과 맥랙막을 제외한 망막 layer들\n",
    "    for label_num in range(1, 10):\n",
    "        mask_region = mask == label_num\n",
    "        \n",
    "        if len(mask_region) == 0:\n",
    "            print(f'{label_num} >>> {name}')\n",
    "        img_region = removed_img[mask_region]\n",
    "        \n",
    "        mean = np.mean(img_region)\n",
    "        std = np.std(img_region)\n",
    "        \n",
    "        outlier = [] \n",
    "        normal = []\n",
    "        \n",
    "        for pixel in img_region:\n",
    "            z_score = abs(pixel - mean) / std \n",
    "\n",
    "            if z_score > threshold: \n",
    "                outlier.append(pixel)\n",
    "            else:\n",
    "                normal.append(pixel)\n",
    "\n",
    "        for idx, pixel in enumerate(img_region):\n",
    "            if pixel in outlier:\n",
    "                img_region[idx] = random.choice(normal)\n",
    "                \n",
    "        removed_img[mask_region] = img_region\n",
    "        \n",
    "    return removed_img"
   ]
  },
  {
   "cell_type": "code",
   "execution_count": 12,
   "metadata": {},
   "outputs": [
    {
     "data": {
      "text/plain": [
       "'/mnt/nas100_vol2/LeeJungHoon/Segmentation/OCT_task/Experiments_LJH'"
      ]
     },
     "execution_count": 12,
     "metadata": {},
     "output_type": "execute_result"
    }
   ],
   "source": [
    "pwd"
   ]
  },
  {
   "cell_type": "code",
   "execution_count": 12,
   "metadata": {},
   "outputs": [],
   "source": [
    "train_image_path = '../data/train_data/V2/train/image/*.png' \n",
    "train_mask_path = '../data/train_data/V2/train/mask/*.png' \n",
    "\n",
    "valid_image_path = '../data/train_data/V2/valid/image/*.png' \n",
    "valid_mask_path = '../data/train_data/V2/valid/mask/*.png' \n",
    "\n",
    "test_image_path = '../data/train_data/V2/test/image/*.png' \n",
    "test_mask_path = '../data/train_data/V2/test/mask/*.png' "
   ]
  },
  {
   "cell_type": "code",
   "execution_count": null,
   "metadata": {
    "collapsed": true,
    "jupyter": {
     "outputs_hidden": true
    },
    "tags": []
   },
   "outputs": [],
   "source": [
    "b = glob(train_image_path)\n",
    "c = glob(train_mask_path)\n",
    "\n",
    "for a, b in zip(b, c):\n",
    "    print(a,b)\n",
    "    img = cv2.imread(a, cv2.IMREAD_GRAYSCALE)\n",
    "    ma = cv2.imread(b, cv2.IMREAD_GRAYSCALE)\n"
   ]
  },
  {
   "cell_type": "code",
   "execution_count": 16,
   "metadata": {},
   "outputs": [
    {
     "data": {
      "text/plain": [
       "51"
      ]
     },
     "execution_count": 16,
     "metadata": {},
     "output_type": "execute_result"
    }
   ],
   "source": [
    "len(b)"
   ]
  },
  {
   "cell_type": "code",
   "execution_count": 14,
   "metadata": {},
   "outputs": [],
   "source": [
    "class OCT_Dataset(Dataset):\n",
    "    def __init__(self, image_path, mask_path, transform_with_mask=None):\n",
    "        self.image_path_list = sorted(glob(image_path))\n",
    "        self.mask_path_list = sorted(glob(mask_path))\n",
    "        \n",
    "        self.image_list = []\n",
    "        self.mask_list = []\n",
    "        \n",
    "        self.transform_with_mask = transform_with_mask\n",
    "        \n",
    "        \n",
    "        for (image_path, mask_path) in zip(self.image_path_list, self.mask_path_list):\n",
    "            \n",
    "            image = cv2.imread(image_path, cv2.IMREAD_GRAYSCALE)\n",
    "            mask = cv2.imread(mask_path, cv2.IMREAD_GRAYSCALE)\n",
    "            \n",
    "            '''\n",
    "            # RAA\n",
    "            image = median(image, disk(1))\n",
    "            mask = median(mask, disk(5))\n",
    "            \n",
    "            # RVA\n",
    "            image = remove_artifact(image, mask, image_path, threshold=1.5)            \n",
    "            '''\n",
    "            \n",
    "            # Aug\n",
    "            # image = np.expand_dims(image, axis=0)\n",
    "            \n",
    "            if self.transform_with_mask:\n",
    "\n",
    "                image = np.squeeze(image)\n",
    "\n",
    "                augmented = self.transform_with_mask(image=image, mask=mask)\n",
    "                augmented_image, augmented_mask = augmented['image'], augmented['mask']\n",
    "            \n",
    "                augmented_image = np.expand_dims(augmented_image, axis=0)\n",
    "                # augmented_mask = np.expand_dims(augmented_mask, axis=0)\n",
    "                \n",
    "                # print(augmented_image.shape)\n",
    "                # print(augmented_mask.shape)\n",
    "                \n",
    "                # 동환 선생님이 했던 것과 순서가 다름 원래와 같은 순서대로 들어갈 경우 같은 data가 두 번 들어가기 때문에 \n",
    "                # append하는 부분을 마지막에 추가해주기\n",
    "                # self.image_list.append(torch.from_numpy(augmented_image).float())\n",
    "                # self.mask_list.append(torch.from_numpy(augmented_mask).float())\n",
    "                            \n",
    "                self.image_list.append(torch.from_numpy(augmented_image).float())\n",
    "                self.mask_list.append(torch.from_numpy(augmented_mask).float())\n",
    "            \n",
    "            else:\n",
    "                image = np.expand_dims(image, axis=0)\n",
    "                # mask = np.expand_dims(mask, axis=0)\n",
    "                \n",
    "                self.image_list.append(torch.from_numpy(image).float())\n",
    "                self.mask_list.append(torch.from_numpy(mask).float())\n",
    "            \n",
    "    def __len__(self):\n",
    "        return len(self.image_list)\n",
    "        \n",
    "    def __getitem__(self, idx):\n",
    "        return {'image': self.image_list[idx], 'mask': self.mask_list[idx], 'filename' : self.image_path_list[idx]}"
   ]
  },
  {
   "cell_type": "code",
   "execution_count": 15,
   "metadata": {
    "tags": []
   },
   "outputs": [
    {
     "name": "stdout",
     "output_type": "stream",
     "text": [
      "Training Data Size : 663\n",
      "Validation Data Size : 78\n",
      "Testing Data Size : 104\n"
     ]
    }
   ],
   "source": [
    "batch_size = 8\n",
    "\n",
    "# dataset_size = len(inputs)\n",
    "# # Augmentation 이후 train:valid:test 비율이 \n",
    "# # 6:2:2 => 3/7, 2/7\n",
    "# # 8:1:1 => 2/3, 1/6\n",
    "\n",
    "# train_size = round(dataset_size * 0.8)\n",
    "# validation_size = round(dataset_size * 0.1)\n",
    "# test_size = dataset_size - train_size - validation_size\n",
    "# print(dataset_size)\n",
    "# print(f'{train_size}:{validation_size}:{test_size}')\n",
    "\n",
    "train_transform_with_mask = albumentations.Compose([\n",
    "    albumentations.ShiftScaleRotate(shift_limit=0, scale_limit=(0,0.2), rotate_limit=0, p=0.3, interpolation=1, border_mode=cv2.BORDER_REPLICATE),\n",
    "    # albumentations.RandomCropFromBorders(crop_left=0, crop_right=0, crop_top=0.05, crop_bottom=0.05, always_apply=False, p=0.3),\n",
    "    albumentations.HorizontalFlip(p=0.5),\n",
    "    albumentations.CLAHE(clip_limit=(1,2), p=0.3),\n",
    "    albumentations.Resize(512,512, interpolation = cv2.INTER_AREA)    \n",
    "    ])\n",
    "\n",
    "transform_with_mask = albumentations.Resize(512,512, interpolation = cv2.INTER_AREA)\n",
    "\n",
    "train_dataset = OCT_Dataset(train_image_path, train_mask_path, transform_with_mask)\n",
    "validation_dataset = OCT_Dataset(valid_image_path, valid_mask_path, transform_with_mask)\n",
    "test_dataset = OCT_Dataset(test_image_path, test_mask_path, transform_with_mask)\n",
    "\n",
    "train_dataloader = DataLoader(train_dataset, batch_size=batch_size, shuffle=True, drop_last=True, worker_init_fn=seed_worker)\n",
    "validation_dataloader = DataLoader(validation_dataset, batch_size=batch_size, drop_last=True)\n",
    "test_dataloader = DataLoader(test_dataset, batch_size=1)\n",
    "\n",
    "print(f\"Training Data Size : {len(train_dataset)}\")\n",
    "print(f\"Validation Data Size : {len(validation_dataset)}\")\n",
    "print(f\"Testing Data Size : {len(test_dataset)}\")"
   ]
  },
  {
   "cell_type": "code",
   "execution_count": 16,
   "metadata": {},
   "outputs": [
    {
     "data": {
      "text/plain": [
       "'10554838_OD_05.png'"
      ]
     },
     "execution_count": 16,
     "metadata": {},
     "output_type": "execute_result"
    }
   ],
   "source": [
    "# print(validation_dataset[0]['mask'].shape)\n",
    "train_dataset[0]['filename'].split('/')[-1]"
   ]
  },
  {
   "cell_type": "code",
   "execution_count": null,
   "metadata": {
    "scrolled": true
   },
   "outputs": [],
   "source": [
    "for idx, batch in enumerate(validation_dataloader):\n",
    "    if idx == 10:\n",
    "        break\n",
    "    images = batch['image']\n",
    "    targets = batch['mask']\n",
    "    print(images.type)\n",
    "    print(images.shape)\n",
    "    print(targets.shape)\n",
    "    \n",
    "    fig = plt.figure(figsize=(16, 16))\n",
    "\n",
    "    plt.subplot(1, 2, 1)\n",
    "    plt.imshow(images[0].squeeze(), cmap='gray')\n",
    "\n",
    "    plt.subplot(1, 2, 2)\n",
    "    plt.imshow(targets[0].squeeze(), cmap='gray')\n",
    "\n",
    "    plt.tight_layout()\n",
    "    plt.show()"
   ]
  },
  {
   "cell_type": "markdown",
   "metadata": {},
   "source": [
    "## Train & Validation"
   ]
  },
  {
   "cell_type": "code",
   "execution_count": 18,
   "metadata": {
    "scrolled": true
   },
   "outputs": [],
   "source": [
    "net = UNet(1, 11).to(device)\n",
    "# summary(net, (1, 512, 512))"
   ]
  },
  {
   "cell_type": "code",
   "execution_count": 19,
   "metadata": {},
   "outputs": [],
   "source": [
    "criterion = nn.CrossEntropyLoss()\n",
    "optimizer = optim.SGD(net.parameters(), lr=0.001, momentum=0.9)\n",
    "# scheduler = ReduceLROnPlateau(optimizer, 'min')\n",
    "\n",
    "def train_one_epoch(training_loader, epoch, tb_writer):\n",
    "    running_loss = 0.0\n",
    "    total_dice_score = 0.0\n",
    "    num_train_batches = len(training_loader)\n",
    "    dice_score_per_layer = {}\n",
    "    \n",
    "    for idx, batch in enumerate(training_loader):\n",
    "        '''\n",
    "        images = []\n",
    "        targets = []\n",
    "        \n",
    "        for image, mask in zip(batch['image'], batch['mask']):\n",
    "            augmented = transform(image=image.numpy(), mask=mask.numpy())\n",
    "            image, mask = augmented['image'], augmented['mask']\n",
    "\n",
    "            image = np.expand_dims(image, axis=0)\n",
    "\n",
    "            images.append(image)\n",
    "            targets.append(mask)\n",
    "\n",
    "        images = torch.from_numpy(np.array(images)).to(device=device, dtype=torch.float32)\n",
    "        targets = torch.from_numpy(np.array(targets)).to(device=device, dtype=torch.long)\n",
    "        '''\n",
    "        \n",
    "        images = batch['image'].to(device=device, dtype=torch.float32)\n",
    "        targets = batch['mask'].to(device=device, dtype=torch.long)\n",
    "        \n",
    "        optimizer.zero_grad()\n",
    "\n",
    "        masks_pred = net(images)\n",
    "        \n",
    "        \n",
    "        loss = criterion(masks_pred, targets)\n",
    "\n",
    "        loss.backward()\n",
    "\n",
    "        optimizer.step()\n",
    "\n",
    "        running_loss += loss.item()\n",
    "        # running_loss_arr += [loss.item()]\n",
    "        # batch_mean_loss = np.mean(running_loss_arr)\n",
    "        \n",
    "        targets = F.one_hot(targets, net.n_classes).permute(0, 3, 1, 2).float()\n",
    "        masks_pred = F.one_hot(masks_pred.argmax(dim=1), net.n_classes).permute(0, 3, 1, 2).float()\n",
    "    \n",
    "        dice_score, dice_score_list = multiclass_dice_coeff(masks_pred[:, 1:, ...], targets[:, 1:, ...], reduce_batch_first=False)\n",
    "        total_dice_score += dice_score\n",
    "        \n",
    "        batch_dice_score_per_layer = {idx + 1: dice_score.item() for idx, dice_score in enumerate(dice_score_list)}\n",
    "        \n",
    "        for layer, dice_score in batch_dice_score_per_layer.items():\n",
    "            if dice_score_per_layer.get(layer) == None:\n",
    "                dice_score_per_layer[layer] = dice_score\n",
    "            else:\n",
    "                dice_score_per_layer[layer] += dice_score\n",
    "    else:\n",
    "        last_loss = running_loss / num_train_batches\n",
    "        avg_vscore = total_dice_score / num_train_batches\n",
    "        train_dice_score_per_layer = {layer: round(dice_score / num_train_batches, 3) for layer, dice_score in dice_score_per_layer.items()}\n",
    "        \n",
    "        print(f'| epoch {epoch} |\\ntrain loss: {last_loss:.3f} \\ntrain dice_score: {avg_vscore:.3f} \\ntrain_dice_score_per_layer: {json.dumps(train_dice_score_per_layer, sort_keys = False, indent = 4)}')\n",
    "        tb_writer.add_scalar('Loss/train', last_loss, epoch)\n",
    "        tb_writer.add_scalar('Dice_Score/train', avg_vscore, epoch)\n",
    "    return last_loss, avg_vscore"
   ]
  },
  {
   "cell_type": "markdown",
   "metadata": {},
   "source": [
    "## tensorboard"
   ]
  },
  {
   "cell_type": "code",
   "execution_count": 20,
   "metadata": {},
   "outputs": [],
   "source": [
    "from torch.utils.tensorboard import SummaryWriter\n",
    "timestamp = datetime.now().strftime('%Y%m%d_%H%M%S')\n",
    "os.mkdir(f'/mnt/nas100_vol2/LeeJungHoon/Segmentation/OCT_task/checkpoints/train(JHL_newsplit_curation)')\n",
    "# writer = SummaryWriter(f'../runs/{timestamp}')\n",
    "writer = SummaryWriter('/mnt/nas100_vol2/LeeJungHoon/Segmentation/OCT_task/runs/train(JHL_newsplit_curation)')"
   ]
  },
  {
   "cell_type": "code",
   "execution_count": null,
   "metadata": {
    "tags": []
   },
   "outputs": [],
   "source": [
    "epochs = 50\n",
    "best_vloss = 1_000_000.0\n",
    "best_vscore = 0.0\n",
    "num_val_batches = len(validation_dataloader)\n",
    "\n",
    "loss_history = {'train': [], 'val': []}\n",
    "metric_history = {'train': [], 'val': []}\n",
    "\n",
    "for epoch in tqdm(range(1, epochs+1)):\n",
    "    net.train()\n",
    "    avg_loss, avg_vscore = train_one_epoch(train_dataloader, epoch, writer)\n",
    "    loss_history['train'].append(avg_loss)\n",
    "    metric_history['train'].append(avg_vscore)\n",
    "\n",
    "    \n",
    "    net.eval()\n",
    "    running_vloss = 0.0\n",
    "    total_dice_score = 0.0\n",
    "    dice_score_per_layer = {}\n",
    "    \n",
    "    with torch.no_grad():\n",
    "        for idx, batch in enumerate(validation_dataloader):\n",
    "            images = batch['image']\n",
    "            targets = batch['mask']\n",
    "\n",
    "#             images = images.unsqueeze(1)\n",
    "        \n",
    "            images = images.to(device=device, dtype=torch.float32)\n",
    "            targets = targets.to(device=device, dtype=torch.long)\n",
    "\n",
    "            masks_pred = net(images)\n",
    "            # print(masks_pred.shape)\n",
    "            loss = criterion(masks_pred, targets)\n",
    "            \n",
    "            running_vloss += loss\n",
    "            \n",
    "            targets = F.one_hot(targets, net.n_classes).permute(0, 3, 1, 2).float()\n",
    "            masks_pred = F.one_hot(masks_pred.argmax(dim=1), net.n_classes).permute(0, 3, 1, 2).float()\n",
    "\n",
    "            dice_score, dice_score_list = multiclass_dice_coeff(masks_pred[:, 1:, ...], targets[:, 1:, ...], reduce_batch_first=False)\n",
    "            total_dice_score += dice_score\n",
    "            \n",
    "            for idx, dice_score in enumerate(dice_score_list):\n",
    "                if dice_score_per_layer.get(idx + 1) == None:\n",
    "                    dice_score_per_layer[idx + 1] = dice_score.item()\n",
    "                else:\n",
    "                    dice_score_per_layer[idx + 1] += dice_score.item()\n",
    "    \n",
    "    avg_vloss = running_vloss / num_val_batches\n",
    "    avg_val_vscore = total_dice_score / num_val_batches\n",
    "    valid_dice_score_per_layer = {layer: round(dice_score / num_val_batches, 3) for layer, dice_score in dice_score_per_layer.items()}\n",
    "    \n",
    "#     scheduler.step(avg_vloss)\n",
    "    print(f'valid loss: {avg_vloss:.3f} \\nvalid dice_score: {avg_val_vscore:.3f} \\nvalid_dice_score_per_layer: {json.dumps(valid_dice_score_per_layer, sort_keys=False, indent=4)}')\n",
    "    \n",
    "    writer.add_scalar('Loss/valid', avg_vloss, epoch)\n",
    "    writer.add_scalar('Dice_Score/valid', avg_vscore, epoch)\n",
    "    \n",
    "    loss_history['val'].append(avg_vloss)\n",
    "    metric_history['val'].append(avg_val_vscore)\n",
    "        \n",
    "    if avg_vloss < best_vloss:\n",
    "        best_vloss = avg_vloss\n",
    "        \n",
    "        path = f'/mnt/nas100_vol2/LeeJungHoon/Segmentation/OCT_task/checkpoints/train(JHL_newsplit_curation)/best_loss_{epoch}.pth'\n",
    "        torch.save(net.state_dict(), path)\n",
    "\n",
    "    if avg_vscore > best_vscore:\n",
    "        best_vscore = avg_vscore\n",
    "        \n",
    "        path = f'/mnt/nas100_vol2/LeeJungHoon/Segmentation/OCT_task/checkpoints/train(JHL_newsplit_curation)/best_score_{epoch}.pth'\n",
    "        torch.save(net.state_dict(), path)"
   ]
  },
  {
   "cell_type": "markdown",
   "metadata": {},
   "source": [
    "# 결과 시각화"
   ]
  },
  {
   "cell_type": "code",
   "execution_count": 22,
   "metadata": {},
   "outputs": [
    {
     "data": {
      "text/plain": [
       "Text(0.5, 1.0, 'Dice loss')"
      ]
     },
     "execution_count": 22,
     "metadata": {},
     "output_type": "execute_result"
    },
    {
     "data": {
      "image/png": "[encoded data removed]",
      "text/plain": [
       "<Figure size 720x288 with 2 Axes>"
      ]
     },
     "metadata": {
      "needs_background": "light"
     },
     "output_type": "display_data"
    }
   ],
   "source": [
    "accuracy = metric_history['train']\n",
    "val_accuracy = metric_history['val'] \n",
    "\n",
    "loss = loss_history['train'] \n",
    "val_loss = loss_history['val']\n",
    "\n",
    "epochs = range(len(loss_history['train']))\n",
    "\n",
    "fig = plt.figure(figsize=(10, 4))\n",
    "\n",
    "plt.subplot(1, 2, 1)\n",
    "plt.plot(epochs, accuracy, label=\"train\") \n",
    "plt.plot(epochs, val_accuracy, label=\"val\")\n",
    "plt.xlabel('epochs')\n",
    "plt.legend() \n",
    "plt.title('Dice Score') \n",
    "\n",
    "plt.subplot(1, 2, 2)\n",
    "# plt.figure()\n",
    "plt.plot(epochs, loss, label=\"train\")\n",
    "plt.plot(epochs, val_loss, label=\"val\") \n",
    "plt.xlabel('epochs')\n",
    "plt.legend() \n",
    "plt.title('Dice loss')"
   ]
  },
  {
   "cell_type": "markdown",
   "metadata": {},
   "source": [
    "## Test"
   ]
  },
  {
   "cell_type": "code",
   "execution_count": 24,
   "metadata": {},
   "outputs": [],
   "source": [
    "# 시각화를 위한 RGB값\n",
    "\n",
    "mask_rgb = {\n",
    "    0: [0, 0, 0],\n",
    "    1: [255, 0, 0],\n",
    "    2: [0, 255, 0],\n",
    "    3: [0, 0, 255],\n",
    "    4: [255, 255, 0],\n",
    "    5: [0, 255, 255],\n",
    "    6: [255, 0, 255],\n",
    "    7: [208, 200, 187],\n",
    "    8: [93, 93, 195],\n",
    "    9: [207, 171, 136],\n",
    "    10: [221, 206, 186],\n",
    "    11: [51, 204, 204]\n",
    "}"
   ]
  },
  {
   "cell_type": "code",
   "execution_count": 25,
   "metadata": {},
   "outputs": [],
   "source": [
    "def gray_to_rgb(gray_image):\n",
    "    rgb_img = np.zeros((512, 512, 3))\n",
    "    \n",
    "    for layer, rgb_value in mask_rgb.items():\n",
    "        class_region = gray_image == layer\n",
    "        rgb_img[class_region.cpu()] = rgb_value\n",
    "        \n",
    "    return rgb_img"
   ]
  },
  {
   "cell_type": "code",
   "execution_count": null,
   "metadata": {
    "collapsed": true,
    "jupyter": {
     "outputs_hidden": true
    },
    "tags": []
   },
   "outputs": [],
   "source": [
    "filename = \"best_loss_34.pth\"\n",
    "checkpoint_path = f\"/mnt/nas100_vol2/LeeJungHoon/Segmentation/OCT_task/checkpoints/train(JHL_newsplit_curation)/{filename}\" \n",
    "net.load_state_dict(torch.load(checkpoint_path))\n",
    "net.eval()"
   ]
  },
  {
   "cell_type": "code",
   "execution_count": 27,
   "metadata": {},
   "outputs": [],
   "source": [
    "# 결과 이미지 저장 폴더 생성\n",
    "os.mkdir(f'/mnt/nas100_vol2/LeeJungHoon/Segmentation/OCT_task/test_results/train(JHL_newsplit_curation)')\n",
    "save_path = '/mnt/nas100_vol2/LeeJungHoon/Segmentation/OCT_task/test_results/train(JHL_newsplit_curation)'"
   ]
  },
  {
   "cell_type": "code",
   "execution_count": null,
   "metadata": {
    "scrolled": true,
    "tags": []
   },
   "outputs": [],
   "source": [
    "fn_tonumpy = lambda x : x.to('cpu').detach().numpy().transpose(1,2,0)\n",
    "# net.eval()\n",
    "test_loss = 0.0\n",
    "test_dice_score = 0.0\n",
    "dice_score_per_layer = {}\n",
    "num_test_batches = len(test_dataloader)\n",
    "\n",
    "with torch.no_grad():\n",
    "    \n",
    "    for idx, batch in enumerate(test_dataloader):\n",
    "        \n",
    "        images = batch['image']\n",
    "        targets = batch['mask']\n",
    "        \n",
    "        name = batch['filename']\n",
    "    \n",
    "        last_name = name[0].split('/')[-1]\n",
    "        patient = last_name.split('_')[0]\n",
    "        lateral = last_name.split('_')[1]\n",
    "        img_num_png = last_name.split('_')[2]\n",
    "        img_num = re.split('[.]+', img_num_png)[0]\n",
    "\n",
    "        images = images.to(device=device, dtype=torch.float32)\n",
    "        targets = targets.to(device=device, dtype=torch.long)\n",
    "\n",
    "        masks_pred = net(images)\n",
    "\n",
    "        loss = criterion(masks_pred, targets)\n",
    "\n",
    "        test_loss += loss\n",
    "        \n",
    "        masks_pred = masks_pred.argmax(dim=1)\n",
    "        \n",
    "        # for image, target, pred_array in zip(images, targets, masks_pred):\n",
    "        # print(targets.squeeze().shape)\n",
    "        target_img = gray_to_rgb(targets.squeeze())\n",
    "        pred_img = gray_to_rgb(masks_pred.squeeze())\n",
    "\n",
    "        #결과 이미지 저장\n",
    "        imgs = np.hstack((target_img, pred_img))\n",
    "        # print(imgs.shape)\n",
    "        plt.imshow(imgs.astype('uint8'))\n",
    "        # print(f'{save_path}/{patient}_{lateral}_{img_num}')\n",
    "        print(patient)\n",
    "        print(img_num)\n",
    "        # plt.imsave(os.path.join(save_path, '%s_%s_%s.png' % (patient, lateral, img_num)), imgs.astype('uint8'))\n",
    "\n",
    "        # destination = f'{save_path}'\n",
    "        # save = shutil.copy2(imgs, f\"{destination}/{patient}_{lateral}_{img_num}\")\n",
    "\n",
    "        fig = plt.figure(figsize=(20, 20)) \n",
    "\n",
    "        print(images.squeeze(0).shape)\n",
    "        print(target_img.shape)\n",
    "        \n",
    "        plt.subplot(1, 3, 1)\n",
    "        plt.imshow(fn_tonumpy(images.cpu().squeeze(0)), cmap = plt.cm.gray)\n",
    "\n",
    "        plt.subplot(1, 3, 2)\n",
    "        plt.imshow(target_img.astype('uint8'))\n",
    "\n",
    "        plt.subplot(1, 3, 3)\n",
    "        plt.imshow(pred_img.astype('uint8'))\n",
    "\n",
    "        plt.tight_layout()\n",
    "        plt.show()\n",
    "\n",
    "        targets = F.one_hot(targets, net.n_classes).permute(0, 3, 1, 2).float()\n",
    "        masks_pred = F.one_hot(masks_pred, net.n_classes).permute(0, 3, 1, 2).float()\n",
    "\n",
    "        dice_score, dice_score_list = multiclass_dice_coeff(masks_pred[:, 1:, ...], targets[:, 1:, ...], reduce_batch_first=False)\n",
    "        test_dice_score += dice_score\n",
    "\n",
    "        for idx, dice_score in enumerate(dice_score_list):\n",
    "            if dice_score_per_layer.get(idx + 1) == None:\n",
    "                dice_score_per_layer[idx + 1] = dice_score.item()\n",
    "            else:\n",
    "                dice_score_per_layer[idx + 1] += dice_score.item()\n",
    "                \n",
    "avg_test_loss = test_loss / num_test_batches\n",
    "avg_test_score = test_dice_score / num_test_batches\n",
    "test_dice_score_per_layer = {layer: round(dice_score / num_test_batches, 3) for layer, dice_score in dice_score_per_layer.items()}\n",
    "\n",
    "print(f'test loss: {avg_test_loss:.3f} \\ntest dice_score: {avg_test_score:.3f} \\ntest_dice_score_per_layer: {json.dumps(test_dice_score_per_layer, sort_keys=False, indent=4)}')\n",
    "\n",
    "writer.add_scalar('Loss/test', avg_test_loss, epoch)\n",
    "writer.add_scalar('Dice_Score/test', avg_test_score, epoch)\n",
    "\n",
    "writer.flush()"
   ]
  },
  {
   "cell_type": "code",
   "execution_count": 37,
   "metadata": {},
   "outputs": [
    {
     "data": {
      "text/plain": [
       "(512, 1024, 3)"
      ]
     },
     "execution_count": 37,
     "metadata": {},
     "output_type": "execute_result"
    }
   ],
   "source": [
    "imgs.shape"
   ]
  },
  {
   "cell_type": "code",
   "execution_count": null,
   "metadata": {},
   "outputs": [],
   "source": []
  }
 ],
 "metadata": {
  "kernelspec": {
   "display_name": "Python 3",
   "language": "python",
   "name": "python3"
  },
  "language_info": {
   "codemirror_mode": {
    "name": "ipython",
    "version": 3
   },
   "file_extension": ".py",
   "mimetype": "text/x-python",
   "name": "python",
   "nbconvert_exporter": "python",
   "pygments_lexer": "ipython3",
   "version": "3.6.13"
  }
 },
 "nbformat": 4,
 "nbformat_minor": 4
}
